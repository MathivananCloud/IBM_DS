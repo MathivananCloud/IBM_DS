{
 "cells": [
  {
   "cell_type": "markdown",
   "id": "ea362a25-4b78-4074-b2aa-d61fa3c1f1e8",
   "metadata": {},
   "source": [
    "# Data Science Tools and Ecosystem"
   ]
  },
  {
   "cell_type": "markdown",
   "id": "da14749c-a665-4388-9364-1adb9c09e17b",
   "metadata": {},
   "source": [
    "In this notebook, Data Science Tools and Ecosystem are summarized."
   ]
  },
  {
   "cell_type": "markdown",
   "id": "5391001f-de84-463d-9801-e5fca8d966f2",
   "metadata": {},
   "source": [
    "Some of the popular languages that Data Scientists use are:\n",
    "\n",
    "    1. Java\n",
    "    2. C\n",
    "    3. R\n",
    "    4. Python"
   ]
  },
  {
   "cell_type": "markdown",
   "id": "26b22a09-0270-4ee4-8a56-1f24d77506e8",
   "metadata": {},
   "source": [
    "Some of the commonly used libraries used by Data Scientists include:\n",
    "    \n",
    "    1. Numpy\n",
    "    2. Panda\n",
    "    3. GGPlot"
   ]
  },
  {
   "cell_type": "markdown",
   "id": "03f6cb4f-5f81-418b-9fb6-ebf6c0576d18",
   "metadata": {},
   "source": [
    "| Data Science Tools |\n",
    "| -------------------|\n",
    "| R Studio |\n",
    "| Jupyter |\n",
    "| Visual Studio |"
   ]
  },
  {
   "cell_type": "markdown",
   "id": "8ea94573-d8db-491c-8ccf-1521e5a374f4",
   "metadata": {},
   "source": [
    "### Below are a few examples of evaluating arithmetic expressions in Python"
   ]
  },
  {
   "cell_type": "code",
   "execution_count": 2,
   "id": "43c801e2-b1a2-4c65-b631-d471edc2e0d5",
   "metadata": {
    "tags": []
   },
   "outputs": [
    {
     "data": {
      "text/plain": [
       "17"
      ]
     },
     "execution_count": 2,
     "metadata": {},
     "output_type": "execute_result"
    }
   ],
   "source": [
    "# This is a simple arithmetic expression to multiply then add integers.\n",
    "(3*4)+5"
   ]
  },
  {
   "cell_type": "code",
   "execution_count": 4,
   "id": "e1465520-c41f-4f7d-9bc0-1e57ba21f21d",
   "metadata": {
    "tags": []
   },
   "outputs": [
    {
     "data": {
      "text/plain": [
       "3.3333333333333335"
      ]
     },
     "execution_count": 4,
     "metadata": {},
     "output_type": "execute_result"
    }
   ],
   "source": [
    "# This will convert 200 minutes to hours by dividing by 60\n",
    "200/60"
   ]
  },
  {
   "cell_type": "markdown",
   "id": "8fc708c9-a537-459f-a807-7e76b8016313",
   "metadata": {},
   "source": [
    "**Objectives**\n",
    "\n",
    "- List popular languages\n",
    "- List commonly used libraries\n",
    "- List commonly used Data Science tools"
   ]
  },
  {
   "cell_type": "markdown",
   "id": "579ceca0-b7ce-45e1-b645-2a988cc778e0",
   "metadata": {},
   "source": [
    "## Author\n",
    "\n",
    "Mathivanan"
   ]
  },
  {
   "cell_type": "code",
   "execution_count": null,
   "id": "8a5f0f24-09bc-4209-90b8-1762f5b9f805",
   "metadata": {},
   "outputs": [],
   "source": []
  }
 ],
 "metadata": {
  "kernelspec": {
   "display_name": "Python",
   "language": "python",
   "name": "conda-env-python-py"
  },
  "language_info": {
   "codemirror_mode": {
    "name": "ipython",
    "version": 3
   },
   "file_extension": ".py",
   "mimetype": "text/x-python",
   "name": "python",
   "nbconvert_exporter": "python",
   "pygments_lexer": "ipython3",
   "version": "3.7.12"
  }
 },
 "nbformat": 4,
 "nbformat_minor": 5
}
